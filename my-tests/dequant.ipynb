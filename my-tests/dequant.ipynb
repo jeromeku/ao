{
 "cells": [
  {
   "cell_type": "code",
   "execution_count": 1,
   "metadata": {},
   "outputs": [],
   "source": [
    "import bitsandbytes as bnb\n",
    "import bitsandbytes.functional as bnb_func\n",
    "import torch\n",
    "import torch.nn as nn\n",
    "import torch.nn.functional as F"
   ]
  },
  {
   "cell_type": "code",
   "execution_count": 2,
   "metadata": {},
   "outputs": [],
   "source": [
    "def _build_input_weight(embed_dim: int, device: torch.device, dtype: torch.dtype):\n",
    "    torch.manual_seed(0)\n",
    "    input_weight = torch.empty(embed_dim, embed_dim, device=device, dtype=dtype)\n",
    "    input_weight.normal_(0, 1)\n",
    "    return input_weight\n",
    "\n",
    "\n",
    "def _build_bnb_linear(input_weight, device):\n",
    "    param = bnb.nn.Params4bit(input_weight, requires_grad=False, quant_type=\"nf4\").cuda(\n",
    "        device\n",
    "    )\n",
    "    bnb_linear = bnb.nn.LinearNF4(\n",
    "        input_weight.size(0), input_weight.size(1), bias=False\n",
    "    )\n",
    "    bnb_linear.weight = param\n",
    "    bnb_linear.to(device)\n",
    "    return bnb_linear"
   ]
  },
  {
   "cell_type": "code",
   "execution_count": 3,
   "metadata": {},
   "outputs": [],
   "source": [
    "torch.manual_seed(0)\n",
    "dim = 512\n",
    "device = \"cuda\"\n",
    "dtype = torch.bfloat16\n",
    "input_weight = _build_input_weight(dim, device, dtype)\n",
    "nf4_weight = to_nf4(input_weight)\n",
    "param = bnb.nn.Params4bit(input_weight, requires_grad=False, quant_type=\"nf4\").cuda(\n",
    "    device\n",
    ")"
   ]
  },
  {
   "cell_type": "code",
   "execution_count": 26,
   "metadata": {},
   "outputs": [],
   "source": [
    "quant_state = param.quant_state\n",
    "with torch.profiler.profile(activities=[torch.profiler.ProfilerActivity.CUDA]) as prof:\n",
    "    absmax = bnb_func.dequantize_blockwise(quant_state.absmax, quant_state.state2)\n",
    "absmax += quant_state.offset\n",
    "absmax = absmax.float()"
   ]
  },
  {
   "cell_type": "code",
   "execution_count": 28,
   "metadata": {},
   "outputs": [
    {
     "name": "stdout",
     "output_type": "stream",
     "text": [
      "-------------------------------------------------------  ------------  ------------  ------------  ------------  ------------  ------------  ------------  ------------  ------------  ------------  \n",
      "                                                   Name    Self CPU %      Self CPU   CPU total %     CPU total  CPU time avg     Self CUDA   Self CUDA %    CUDA total  CUDA time avg    # of Calls  \n",
      "-------------------------------------------------------  ------------  ------------  ------------  ------------  ------------  ------------  ------------  ------------  ------------  ------------  \n",
      "                                       cudaLaunchKernel        65.74%      42.913us        65.74%      42.913us      42.913us       0.000us         0.00%       0.000us       0.000us             1  \n",
      "void kDequantizeBlockwise<float, 512, 64, 8, 0>(floa...         0.00%       0.000us         0.00%       0.000us       0.000us       1.792us       100.00%       1.792us       1.792us             1  \n",
      "                                    cudaPeekAtLastError         0.58%       0.376us         0.58%       0.376us       0.376us       0.000us         0.00%       0.000us       0.000us             1  \n",
      "                                  cudaDeviceSynchronize        33.68%      21.983us        33.68%      21.983us      21.983us       0.000us         0.00%       0.000us       0.000us             1  \n",
      "-------------------------------------------------------  ------------  ------------  ------------  ------------  ------------  ------------  ------------  ------------  ------------  ------------  \n",
      "Self CPU time total: 65.272us\n",
      "Self CUDA time total: 1.792us\n",
      "\n"
     ]
    }
   ],
   "source": [
    "print(prof.key_averages().table())"
   ]
  },
  {
   "cell_type": "code",
   "execution_count": 29,
   "metadata": {},
   "outputs": [],
   "source": [
    "blockwise_code = bnb_func.create_dynamic_map().to(device)"
   ]
  },
  {
   "cell_type": "code",
   "execution_count": 33,
   "metadata": {},
   "outputs": [],
   "source": [
    "quantized_scalers = quant_state.absmax\n",
    "dquantized_scalers = blockwise_code.index_select(0, quantized_scalers.to(torch.long))"
   ]
  },
  {
   "cell_type": "code",
   "execution_count": 34,
   "metadata": {},
   "outputs": [],
   "source": [
    "dq_scalers = dquantized_scalers.reshape(-1, 256) * quant_state.state2.absmax[:, None]"
   ]
  },
  {
   "cell_type": "code",
   "execution_count": 36,
   "metadata": {},
   "outputs": [
    {
     "data": {
      "text/plain": [
       "tensor([2.6390, 3.1359, 2.2418, 3.3183, 2.0594], device='cuda:0')"
      ]
     },
     "execution_count": 36,
     "metadata": {},
     "output_type": "execute_result"
    }
   ],
   "source": [
    "dq_scalers += quant_state.offset\n",
    "dq_scalers = dq_scalers.float()\n",
    "dq_scalers.view(-1)[:5]"
   ]
  },
  {
   "cell_type": "code",
   "execution_count": 37,
   "metadata": {},
   "outputs": [
    {
     "data": {
      "text/plain": [
       "tensor([2.6390, 3.1359, 2.2418, 3.3183, 2.0594], device='cuda:0')"
      ]
     },
     "execution_count": 37,
     "metadata": {},
     "output_type": "execute_result"
    }
   ],
   "source": [
    "absmax.view(-1)[:5]"
   ]
  },
  {
   "cell_type": "code",
   "execution_count": 39,
   "metadata": {},
   "outputs": [
    {
     "data": {
      "text/plain": [
       "tensor([-0.9930, -0.9789, -0.9648, -0.9508, -0.9367], device='cuda:0')"
      ]
     },
     "execution_count": 39,
     "metadata": {},
     "output_type": "execute_result"
    }
   ],
   "source": [
    "blockwise_code[:5]"
   ]
  },
  {
   "cell_type": "code",
   "execution_count": null,
   "metadata": {},
   "outputs": [],
   "source": []
  }
 ],
 "metadata": {
  "kernelspec": {
   "display_name": ".venv",
   "language": "python",
   "name": "python3"
  },
  "language_info": {
   "codemirror_mode": {
    "name": "ipython",
    "version": 3
   },
   "file_extension": ".py",
   "mimetype": "text/x-python",
   "name": "python",
   "nbconvert_exporter": "python",
   "pygments_lexer": "ipython3",
   "version": "3.11.11"
  }
 },
 "nbformat": 4,
 "nbformat_minor": 2
}
